{
 "cells": [
  {
   "cell_type": "markdown",
   "metadata": {},
   "source": [
    "# CAPES DB\n",
    "\n",
    "Overview da base\n",
    "\n",
    "## Table of Contents\n",
    "1. [Dadasets](#datasets)\n",
    "  1. [Programas](#programas)\n",
    "  1. [Docentes](#docentes)\n",
    "  1. [Discentes](#discentes)\n",
    "  1. [Produção Bibliográfica](#producao)\n",
    "2. [Sample Queries](#sample-queries)"
   ]
  },
  {
   "cell_type": "code",
   "execution_count": 1,
   "metadata": {},
   "outputs": [],
   "source": [
    "import numpy as np\n",
    "import pandas as pd\n",
    "import seaborn as sns\n",
    "import matplotlib.pyplot as plt\n",
    "from fastparquet import ParquetFile"
   ]
  },
  {
   "cell_type": "code",
   "execution_count": 2,
   "metadata": {},
   "outputs": [],
   "source": [
    "## Definitions                                                                  \n",
    "dataset_home = \"../dataset\"                                                      \n",
    "datasrc_home = \"../datasrc\"\n",
    "\n",
    "dataset_table = [                                                               \n",
    " [\"docentes\", \"br-capes-docentes.parquet\"],                                     \n",
    " [\"discentes\", \"br-capes-discentes.parquet\"],                                   \n",
    " [\"programas\", \"br-capes-programas.parquet\"]]                                   \n",
    "ds_df = pd.DataFrame(dataset_table, columns='dataset filename'.split())"
   ]
  },
  {
   "cell_type": "markdown",
   "metadata": {},
   "source": [
    "## Programas <a name=\"programas\"></a>"
   ]
  },
  {
   "cell_type": "markdown",
   "metadata": {},
   "source": [
    "### Overview"
   ]
  },
  {
   "cell_type": "code",
   "execution_count": 3,
   "metadata": {},
   "outputs": [
    {
     "name": "stdout",
     "output_type": "stream",
     "text": [
      "Arquivo parquet: \"../dataset/br-capes-programas.parquet\"\n"
     ]
    }
   ],
   "source": [
    "pq_filename = dataset_home + '/' + ds_df[ds_df['dataset'] == 'programas'].iloc[0]['filename']\n",
    "print('Arquivo parquet: \"{}\"'.format(pq_filename))"
   ]
  },
  {
   "cell_type": "code",
   "execution_count": 4,
   "metadata": {},
   "outputs": [
    {
     "data": {
      "text/plain": [
       "{'name': '../dataset/br-capes-programas.parquet',\n",
       " 'columns': ['CD_PROGRAMA_IES',\n",
       "  'AN_BASE',\n",
       "  'NM_GRANDE_AREA_CONHECIMENTO',\n",
       "  'NM_AREA_CONHECIMENTO',\n",
       "  'NM_SUBAREA_CONHECIMENTO',\n",
       "  'NM_ESPECIALIDADE',\n",
       "  'CD_AREA_AVALIACAO',\n",
       "  'NM_AREA_AVALIACAO',\n",
       "  'SG_ENTIDADE_ENSINO',\n",
       "  'NM_ENTIDADE_ENSINO',\n",
       "  'CS_STATUS_JURIDICO',\n",
       "  'DS_DEPENDENCIA_ADMINISTRATIVA',\n",
       "  'DS_ORGANIZACAO_ACADEMICA',\n",
       "  'NM_REGIAO',\n",
       "  'NM_MUNICIPIO_PROGRAMA_IES',\n",
       "  'SG_UF_PROGRAMA',\n",
       "  'NM_GRAU_PROGRAMA',\n",
       "  'CD_CONCEITO_PROGRAMA',\n",
       "  'ANO_INICIO_PROGRAMA',\n",
       "  'AN_INICIO_CURSO',\n",
       "  'IN_REDE',\n",
       "  'SG_ENTIDADE_ENSINO_REDE',\n",
       "  'DS_SITUACAO_PROGRAMA',\n",
       "  'DT_SITUACAO_PROGRAMA',\n",
       "  'ID_ADD_FOTO_PROGRAMA_IES',\n",
       "  'ID_ADD_FOTO_PROGRAMA',\n",
       "  'NM_PROGRAMA_IDIOMA'],\n",
       " 'partitions': [],\n",
       " 'rows': 19810}"
      ]
     },
     "execution_count": 4,
     "metadata": {},
     "output_type": "execute_result"
    }
   ],
   "source": [
    "ParquetFile(pq_filename).info"
   ]
  },
  {
   "cell_type": "markdown",
   "metadata": {},
   "source": [
    "### Totais"
   ]
  },
  {
   "cell_type": "code",
   "execution_count": 5,
   "metadata": {},
   "outputs": [],
   "source": [
    "pf = ParquetFile(pq_filename)\n",
    "df = pf.to_pandas(['AN_BASE', 'CD_PROGRAMA_IES'])\n",
    "#df2 = pf.to_pandas(['col1', 'col2'], categories=['col1'])"
   ]
  },
  {
   "cell_type": "code",
   "execution_count": 6,
   "metadata": {},
   "outputs": [
    {
     "name": "stdout",
     "output_type": "stream",
     "text": [
      "4431 programas de pós graduação identificados entre os anos: 2013 e 2017\n"
     ]
    }
   ],
   "source": [
    "print('{} programas de pós graduação identificados entre os anos: {} e {}'.format(\\\n",
    "            df['CD_PROGRAMA_IES'].nunique(),\n",
    "            df['AN_BASE'].min(),\n",
    "            df['AN_BASE'].max()))"
   ]
  },
  {
   "cell_type": "code",
   "execution_count": 7,
   "metadata": {},
   "outputs": [
    {
     "data": {
      "text/plain": [
       "Text(0.5,1,'Número de cursos de pós graduação no Brasil')"
      ]
     },
     "execution_count": 7,
     "metadata": {},
     "output_type": "execute_result"
    },
    {
     "data": {
      "image/png": "[encoded data removed]",
      "text/plain": [
       "<Figure size 432x288 with 1 Axes>"
      ]
     },
     "metadata": {},
     "output_type": "display_data"
    }
   ],
   "source": [
    "fig, ax = plt.subplots()\n",
    "years = df['AN_BASE'].unique()\n",
    "y_pos = np.arange(len(years))\n",
    "n_programs = df[['AN_BASE', 'CD_PROGRAMA_IES']].groupby('AN_BASE').count()['CD_PROGRAMA_IES'].tolist()\n",
    "\n",
    "ax.barh(y_pos, n_programs, align='center', color='green')\n",
    "ax.set_yticks(y_pos)\n",
    "ax.set_yticklabels(years)\n",
    "ax.invert_yaxis()  # labels read top-to-bottom\n",
    "ax.set_ylabel('Ano')\n",
    "ax.set_title('Número de cursos de pós graduação no Brasil')"
   ]
  },
  {
   "cell_type": "markdown",
   "metadata": {},
   "source": [
    "## Docentes <a name=\"docentes\"></a>"
   ]
  },
  {
   "cell_type": "markdown",
   "metadata": {},
   "source": [
    "## Discentes <a name=\"discentes\"></a>"
   ]
  },
  {
   "cell_type": "markdown",
   "metadata": {},
   "source": [
    "## Produção Bibliográfica <a name=\"producao\"></a>"
   ]
  },
  {
   "cell_type": "markdown",
   "metadata": {},
   "source": [
    "# Sample Queries <a name=\"sample-queries\"> </a>"
   ]
  }
 ],
 "metadata": {
  "kernelspec": {
   "display_name": "Python 3",
   "language": "python",
   "name": "python3"
  },
  "language_info": {
   "codemirror_mode": {
    "name": "ipython",
    "version": 3
   },
   "file_extension": ".py",
   "mimetype": "text/x-python",
   "name": "python",
   "nbconvert_exporter": "python",
   "pygments_lexer": "ipython3",
   "version": "3.6.3"
  }
 },
 "nbformat": 4,
 "nbformat_minor": 2
}
